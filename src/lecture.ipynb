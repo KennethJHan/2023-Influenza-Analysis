{
 "cells": [
  {
   "cell_type": "markdown",
   "metadata": {},
   "source": [
    "# Influenza Virus Sequence Analysis\n",
    "\n",
    "목차\n",
    "- Biopython 설치\n",
    "- Download Influenza Virus Sequence"
   ]
  },
  {
   "cell_type": "markdown",
   "metadata": {},
   "source": [
    "## Biopython 설치\n",
    "pip로 biopython을 설치합니다.\n",
    "```shell\n",
    "pip install biopython\n",
    "```"
   ]
  },
  {
   "cell_type": "code",
   "execution_count": null,
   "metadata": {},
   "outputs": [],
   "source": [
    "pip install biopython"
   ]
  },
  {
   "cell_type": "markdown",
   "metadata": {},
   "source": [
    "설치가 잘 되었는지 확인하기 위해 아래와 같이 타이핑 합니다.\n",
    "```python\n",
    "import Bio\n",
    "print(Bio.__version__)\n",
    "```"
   ]
  },
  {
   "cell_type": "code",
   "execution_count": 5,
   "metadata": {},
   "outputs": [
    {
     "name": "stdout",
     "output_type": "stream",
     "text": [
      "1.81\n"
     ]
    }
   ],
   "source": [
    "import Bio\n",
    "print(Bio.__version__)"
   ]
  },
  {
   "cell_type": "markdown",
   "metadata": {},
   "source": [
    "## Download Influenza Virus Sequence\n",
    "고른 influenza virus amino acids 서열을 받아서 파일로 저장합시다."
   ]
  },
  {
   "cell_type": "code",
   "execution_count": 9,
   "metadata": {},
   "outputs": [
    {
     "name": "stdout",
     "output_type": "stream",
     "text": [
      "Downloaded YP_308875.1 to ../data/YP_308875.1.fasta\n",
      "Downloaded YP_529486.1 to ../data/YP_529486.1.fasta\n",
      "Downloaded YP_009121768.1 to ../data/YP_009121768.1.fasta\n",
      "Downloaded YP_163735.1 to ../data/YP_163735.1.fasta\n",
      "Downloaded YP_009118482 to ../data/YP_009118482.fasta\n"
     ]
    }
   ],
   "source": [
    "from Bio import Entrez\n",
    "\n",
    "\n",
    "def download_amino_acid_sequence(accession_id: str):\n",
    "    Entrez.email = \"your@email.mail\"\n",
    "    result_filepath = f\"../data/{accession_id}.fasta\"\n",
    "    with open(result_filepath, \"w\") as handle_write:\n",
    "        handle = Entrez.efetch(\n",
    "            db=\"protein\", id=accession_id, rettype=\"fasta\", retmode=\"text\"\n",
    "        )\n",
    "        record = handle.read()\n",
    "        handle.close()\n",
    "        handle_write.write(record)\n",
    "        print(f\"Downloaded {accession_id} to {result_filepath}\")\n",
    "\n",
    "\n",
    "def main():\n",
    "    accession_id_list = [\n",
    "        \"YP_308875.1\",\n",
    "        \"YP_529486.1\",\n",
    "        \"YP_009121768.1\",\n",
    "        \"YP_163735.1\",\n",
    "        \"YP_009118482\",\n",
    "    ]\n",
    "    for accession_id in accession_id_list:\n",
    "        download_amino_acid_sequence(accession_id)\n",
    "\n",
    "\n",
    "if __name__ == \"__main__\":\n",
    "    main()\n"
   ]
  },
  {
   "cell_type": "markdown",
   "metadata": {},
   "source": [
    "## Merge FASTA files\n",
    "다운 받았던 여러개의 fasta 파일을 여러개의 record를 담고 있는 하나의 fasta 파일로 저장합시다."
   ]
  },
  {
   "cell_type": "code",
   "execution_count": 11,
   "metadata": {},
   "outputs": [],
   "source": [
    "def merge(accession_id_list):\n",
    "    with open(\"../data/all.fasta\", \"w\") as handle_write:\n",
    "        for accession_id in accession_id_list:\n",
    "            with open(f\"../data/{accession_id}.fasta\", \"r\") as handle_read:\n",
    "                handle_write.write(handle_read.read())\n",
    "\n",
    "def main():\n",
    "    accession_id_list = [\n",
    "        \"YP_308875.1\",\n",
    "        \"YP_529486.1\",\n",
    "        \"YP_009121768.1\",\n",
    "        \"YP_163735.1\",\n",
    "        \"YP_009118482\",\n",
    "    ]\n",
    "    merge(accession_id_list)\n",
    "\n",
    "if __name__ == \"__main__\":\n",
    "    main()\n"
   ]
  },
  {
   "cell_type": "markdown",
   "metadata": {},
   "source": [
    "## Run Multiple Sequence Alignment\n",
    "MSA tool 중 하나인 MUSCLE로 MSA를 수행해보겠습니다.  \n",
    "변수 muscle_exe에 다운로드 한 muscle 경로를 잘 붙여 주고 muscle을 수행합니다."
   ]
  },
  {
   "cell_type": "code",
   "execution_count": 35,
   "metadata": {},
   "outputs": [
    {
     "name": "stdout",
     "output_type": "stream",
     "text": [
      "c:\\Users\\kenne\\OneDrive\\Ken\\Lecture\\2023_진주외고\\2023-Influenza-Analysis\\bin\\muscle3.8.31_i86win32.exe -in ../data/all.fasta -out ../data/all.aln\n"
     ]
    }
   ],
   "source": [
    "from Bio.Align.Applications import MuscleCommandline\n",
    "import os\n",
    "\n",
    "\n",
    "def run_muscle(in_file, out_file):\n",
    "    pwd = %pwd\n",
    "    muscle_exe = os.path.dirname(pwd) + r\"\\bin\\muscle3.8.31_i86win32.exe\"\n",
    "    in_file = \"../data/all.fasta\"\n",
    "    out_file = \"../data/all.aln\"\n",
    "\n",
    "    muscle_cline = MuscleCommandline(muscle_exe, input=in_file, out=out_file)\n",
    "    print(muscle_cline)\n",
    "    stdout, stderr = muscle_cline()\n",
    "\n",
    "\n",
    "def main():\n",
    "    in_file = \"../data/all.fasta\"\n",
    "    out_file = \"../data/all.aln\"\n",
    "    run_muscle(in_file, out_file)\n",
    "\n",
    "\n",
    "if __name__ == \"__main__\":\n",
    "    main()\n"
   ]
  },
  {
   "cell_type": "markdown",
   "metadata": {},
   "source": [
    "## Draw WebLogo"
   ]
  },
  {
   "cell_type": "code",
   "execution_count": 65,
   "metadata": {},
   "outputs": [
    {
     "data": {
      "image/png": "[encoded data removed]",
      "text/plain": [
       "<IPython.core.display.Image object>"
      ]
     },
     "execution_count": 65,
     "metadata": {},
     "output_type": "execute_result"
    }
   ],
   "source": [
    "from Bio.Data import IUPACData\n",
    "from Bio.Seq import Seq\n",
    "from Bio import motifs\n",
    "\n",
    "instance = [\n",
    "    Seq(\"DGENCTLIDALLGDPQCDGFQNAKKWDLFVERASKAYSNC\"),\n",
    "    Seq(\"DLGQCGLLGTITGPPQCDQFLEFSAADLIIERAREGSDVC\"),\n",
    "    Seq(\"ILRDCSVAGWLLGNPMCDEFINVPEWSYIVEKASPANDLC\"),\n",
    "    Seq(\"HLGKCNIAGWILGNPECESLSTASSWSYIVETPSSDNGTC\"),\n",
    "    Seq(\"QLGKCNIAGWLLGNPECDPLLPVRSWSYIVETPNSENGIC\")\n",
    "]\n",
    "m = motifs.create(instances=instance, alphabet=IUPACData.protein_letters)\n",
    "# print(m.counts)\n",
    "\n",
    "motifs.Motif.weblogo(m, \"../data/logo.test.png\")\n",
    "\n",
    "from IPython.display import Image\n",
    "Image(\"../data/logo.test.png\")\n"
   ]
  },
  {
   "cell_type": "markdown",
   "metadata": {},
   "source": [
    "## Build a newick tree from MSA & Draw Phylogenetic Tree"
   ]
  },
  {
   "cell_type": "code",
   "execution_count": 72,
   "metadata": {},
   "outputs": [
    {
     "data": {
      "image/png": "[encoded data removed]",
      "text/plain": [
       "<Figure size 640x480 with 1 Axes>"
      ]
     },
     "metadata": {},
     "output_type": "display_data"
    }
   ],
   "source": [
    "from Bio import AlignIO\n",
    "from Bio.Phylo import TreeConstruction\n",
    "from Bio.Phylo.TreeConstruction import DistanceCalculator\n",
    "from Bio import Phylo\n",
    "import matplotlib.pyplot as plt\n",
    "\n",
    "\n",
    "def muscle_to_newick(input_file, output_file):\n",
    "    # Load the alignment\n",
    "    alignment = AlignIO.read(input_file, \"fasta\")\n",
    "\n",
    "    # Calculate distance matrix\n",
    "    calculator = DistanceCalculator(\"identity\")\n",
    "\n",
    "    # Build the tree\n",
    "    constructor = TreeConstruction.DistanceTreeConstructor(calculator)\n",
    "    tree = constructor.build_tree(alignment)\n",
    "\n",
    "    # Save the tree in Newick format\n",
    "    Phylo.write(tree, output_file, \"newick\")\n",
    "\n",
    "\n",
    "def draw_and_save_tree_from_newick(newick_file, output_image):\n",
    "    # Parse the Newick file\n",
    "    tree = Phylo.read(newick_file, \"newick\")\n",
    "\n",
    "    # Draw the tree\n",
    "    Phylo.draw(tree, do_show=False)\n",
    "    plt.savefig(output_image)\n",
    "    plt.close()\n",
    "\n",
    "    # Show figure on jupyter notebook\n",
    "    Phylo.draw(tree)\n",
    "\n",
    "\n",
    "\n",
    "if __name__ == \"__main__\":\n",
    "    input_file = \"../data/all.aln\"\n",
    "    newick_file = \"../data/all.nwk\"\n",
    "\n",
    "    muscle_to_newick(input_file, newick_file)\n",
    "    draw_and_save_tree_from_newick(newick_file, \"../data/tree.png\")\n"
   ]
  },
  {
   "cell_type": "code",
   "execution_count": null,
   "metadata": {},
   "outputs": [],
   "source": []
  }
 ],
 "metadata": {
  "kernelspec": {
   "display_name": "base",
   "language": "python",
   "name": "python3"
  },
  "language_info": {
   "codemirror_mode": {
    "name": "ipython",
    "version": 3
   },
   "file_extension": ".py",
   "mimetype": "text/x-python",
   "name": "python",
   "nbconvert_exporter": "python",
   "pygments_lexer": "ipython3",
   "version": "3.11.4"
  }
 },
 "nbformat": 4,
 "nbformat_minor": 2
}
